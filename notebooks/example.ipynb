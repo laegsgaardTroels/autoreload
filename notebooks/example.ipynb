{
 "cells": [
  {
   "cell_type": "code",
   "execution_count": 1,
   "id": "8dcc4f9a-f9c4-4f6e-b969-e5424bf3775c",
   "metadata": {},
   "outputs": [],
   "source": [
    "%load_ext autoreload\n",
    "%autoreload 2\n",
    "\n",
    "from foo import some_function"
   ]
  },
  {
   "cell_type": "code",
   "execution_count": 2,
   "id": "731465ba-8ad3-4701-b951-6d424437f4d9",
   "metadata": {},
   "outputs": [
    {
     "data": {
      "text/plain": [
       "42"
      ]
     },
     "execution_count": 2,
     "metadata": {},
     "output_type": "execute_result"
    }
   ],
   "source": [
    "some_function()"
   ]
  },
  {
   "cell_type": "markdown",
   "id": "5b49ad91-9c82-470f-bd20-c6e099b9b58e",
   "metadata": {},
   "source": [
    "Open `foo/__init__.py` in an editor and change some_function to return 43"
   ]
  },
  {
   "cell_type": "code",
   "execution_count": 4,
   "id": "015a1ea8-8088-41c3-a51f-bf98bc8d655d",
   "metadata": {},
   "outputs": [
    {
     "data": {
      "text/plain": [
       "43"
      ]
     },
     "execution_count": 4,
     "metadata": {},
     "output_type": "execute_result"
    }
   ],
   "source": [
    "some_function()"
   ]
  },
  {
   "cell_type": "markdown",
   "id": "b47ceddf-cb05-4886-80ad-898094dc5470",
   "metadata": {},
   "source": [
    "The module was reloaded without reloading it explicitly, and the object imported with `from foo import some_function` was also updated."
   ]
  }
 ],
 "metadata": {
  "kernelspec": {
   "display_name": "Python 3",
   "language": "python",
   "name": "python3"
  },
  "language_info": {
   "codemirror_mode": {
    "name": "ipython",
    "version": 3
   },
   "file_extension": ".py",
   "mimetype": "text/x-python",
   "name": "python",
   "nbconvert_exporter": "python",
   "pygments_lexer": "ipython3",
   "version": "3.8.5"
  }
 },
 "nbformat": 4,
 "nbformat_minor": 5
}
