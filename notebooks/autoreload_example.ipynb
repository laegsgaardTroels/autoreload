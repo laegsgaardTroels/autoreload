{
 "cells": [
  {
   "cell_type": "code",
   "execution_count": 9,
   "id": "8dcc4f9a-f9c4-4f6e-b969-e5424bf3775c",
   "metadata": {},
   "outputs": [
    {
     "name": "stdout",
     "output_type": "stream",
     "text": [
      "The autoreload extension is already loaded. To reload it, use:\n",
      "  %reload_ext autoreload\n"
     ]
    }
   ],
   "source": [
    "%load_ext autoreload\n",
    "%autoreload 2\n",
    "\n",
    "from utils import mappings"
   ]
  },
  {
   "cell_type": "code",
   "execution_count": 12,
   "id": "731465ba-8ad3-4701-b951-6d424437f4d9",
   "metadata": {},
   "outputs": [
    {
     "data": {
      "text/plain": [
       "42"
      ]
     },
     "execution_count": 12,
     "metadata": {},
     "output_type": "execute_result"
    }
   ],
   "source": [
    "mappings.func()"
   ]
  },
  {
   "cell_type": "markdown",
   "id": "5b49ad91-9c82-470f-bd20-c6e099b9b58e",
   "metadata": {},
   "source": [
    "Change `func()` to return 44, now it will be reloaded."
   ]
  },
  {
   "cell_type": "code",
   "execution_count": 13,
   "id": "015a1ea8-8088-41c3-a51f-bf98bc8d655d",
   "metadata": {},
   "outputs": [
    {
     "data": {
      "text/plain": [
       "44"
      ]
     },
     "execution_count": 13,
     "metadata": {},
     "output_type": "execute_result"
    }
   ],
   "source": [
    "mappings.func()"
   ]
  }
 ],
 "metadata": {
  "kernelspec": {
   "display_name": "Python 3",
   "language": "python",
   "name": "python3"
  },
  "language_info": {
   "codemirror_mode": {
    "name": "ipython",
    "version": 3
   },
   "file_extension": ".py",
   "mimetype": "text/x-python",
   "name": "python",
   "nbconvert_exporter": "python",
   "pygments_lexer": "ipython3",
   "version": "3.8.5"
  }
 },
 "nbformat": 4,
 "nbformat_minor": 5
}
